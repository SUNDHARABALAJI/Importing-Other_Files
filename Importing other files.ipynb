{
  "cells":[
    {
      "cell_type":"markdown",
      "source":[
        "# **Importing Pickle Files**"
      ],
      "attachments":{
        
      },
      "metadata":{
        
      }
    },
    {
      "cell_type":"code",
      "source":[
        "import pickle"
      ],
      "execution_count":4,
      "outputs":[
        
      ],
      "metadata":{
        
      }
    },
    {
      "cell_type":"code",
      "source":[
        "with open('data.pkl','rb') as file:\n",
        "    d=pickle.load(file)"
      ],
      "execution_count":5,
      "outputs":[
        
      ],
      "metadata":{
        
      }
    },
    {
      "cell_type":"code",
      "source":[
        "print(d)\n",
        "print(type(d))"
      ],
      "execution_count":6,
      "outputs":[
        {
          "name":"stdout",
          "text":[
            "{'June': '69.4', 'Aug': '85', 'Airline': '8', 'Mar': '84.4'}\n",
            "<class 'dict'>\n"
          ],
          "output_type":"stream"
        }
      ],
      "metadata":{
        
      }
    },
    {
      "cell_type":"markdown",
      "source":[
        "# **Importing Excel Files**"
      ],
      "attachments":{
        
      },
      "metadata":{
        
      }
    },
    {
      "cell_type":"code",
      "source":[
        "import pandas as pd"
      ],
      "execution_count":7,
      "outputs":[
        
      ],
      "metadata":{
        
      }
    },
    {
      "cell_type":"code",
      "source":[
        "file_name='battledeath.xlsx'\n",
        "xls=pd.ExcelFile(file_name)\n",
        "print(xls.sheet_names)"
      ],
      "execution_count":8,
      "outputs":[
        {
          "name":"stdout",
          "text":[
            "['2002', '2004']\n"
          ],
          "output_type":"stream"
        }
      ],
      "metadata":{
        
      }
    },
    {
      "cell_type":"code",
      "source":[
        "df1=xls.parse('2002')\n",
        "df1.head()"
      ],
      "execution_count":9,
      "outputs":[
        {
          "data":{
            "text\/html":[
              "<div>\n",
              "<style scoped>\n",
              "    .dataframe tbody tr th:only-of-type {\n",
              "        vertical-align: middle;\n",
              "    }\n",
              "\n",
              "    .dataframe tbody tr th {\n",
              "        vertical-align: top;\n",
              "    }\n",
              "\n",
              "    .dataframe thead th {\n",
              "        text-align: right;\n",
              "    }\n",
              "<\/style>\n",
              "<table border=\"1\" class=\"dataframe\">\n",
              "  <thead>\n",
              "    <tr style=\"text-align: right;\">\n",
              "      <th><\/th>\n",
              "      <th>War, age-adjusted mortality due to<\/th>\n",
              "      <th>2002<\/th>\n",
              "    <\/tr>\n",
              "  <\/thead>\n",
              "  <tbody>\n",
              "    <tr>\n",
              "      <th>0<\/th>\n",
              "      <td>Afghanistan<\/td>\n",
              "      <td>36.083990<\/td>\n",
              "    <\/tr>\n",
              "    <tr>\n",
              "      <th>1<\/th>\n",
              "      <td>Albania<\/td>\n",
              "      <td>0.128908<\/td>\n",
              "    <\/tr>\n",
              "    <tr>\n",
              "      <th>2<\/th>\n",
              "      <td>Algeria<\/td>\n",
              "      <td>18.314120<\/td>\n",
              "    <\/tr>\n",
              "    <tr>\n",
              "      <th>3<\/th>\n",
              "      <td>Andorra<\/td>\n",
              "      <td>0.000000<\/td>\n",
              "    <\/tr>\n",
              "    <tr>\n",
              "      <th>4<\/th>\n",
              "      <td>Angola<\/td>\n",
              "      <td>18.964560<\/td>\n",
              "    <\/tr>\n",
              "  <\/tbody>\n",
              "<\/table>\n",
              "<\/div>"
            ]
          },
          "metadata":{
            
          },
          "output_type":"display_data"
        }
      ],
      "metadata":{
        
      }
    },
    {
      "cell_type":"code",
      "source":[
        "df1=xls.parse(0)\n",
        "df1.head()"
      ],
      "execution_count":10,
      "outputs":[
        {
          "data":{
            "text\/html":[
              "<div>\n",
              "<style scoped>\n",
              "    .dataframe tbody tr th:only-of-type {\n",
              "        vertical-align: middle;\n",
              "    }\n",
              "\n",
              "    .dataframe tbody tr th {\n",
              "        vertical-align: top;\n",
              "    }\n",
              "\n",
              "    .dataframe thead th {\n",
              "        text-align: right;\n",
              "    }\n",
              "<\/style>\n",
              "<table border=\"1\" class=\"dataframe\">\n",
              "  <thead>\n",
              "    <tr style=\"text-align: right;\">\n",
              "      <th><\/th>\n",
              "      <th>War, age-adjusted mortality due to<\/th>\n",
              "      <th>2002<\/th>\n",
              "    <\/tr>\n",
              "  <\/thead>\n",
              "  <tbody>\n",
              "    <tr>\n",
              "      <th>0<\/th>\n",
              "      <td>Afghanistan<\/td>\n",
              "      <td>36.083990<\/td>\n",
              "    <\/tr>\n",
              "    <tr>\n",
              "      <th>1<\/th>\n",
              "      <td>Albania<\/td>\n",
              "      <td>0.128908<\/td>\n",
              "    <\/tr>\n",
              "    <tr>\n",
              "      <th>2<\/th>\n",
              "      <td>Algeria<\/td>\n",
              "      <td>18.314120<\/td>\n",
              "    <\/tr>\n",
              "    <tr>\n",
              "      <th>3<\/th>\n",
              "      <td>Andorra<\/td>\n",
              "      <td>0.000000<\/td>\n",
              "    <\/tr>\n",
              "    <tr>\n",
              "      <th>4<\/th>\n",
              "      <td>Angola<\/td>\n",
              "      <td>18.964560<\/td>\n",
              "    <\/tr>\n",
              "  <\/tbody>\n",
              "<\/table>\n",
              "<\/div>"
            ]
          },
          "metadata":{
            
          },
          "output_type":"display_data"
        }
      ],
      "metadata":{
        
      }
    },
    {
      "cell_type":"code",
      "source":[
        "df2=xls.parse('2004')\n",
        "df2.head()"
      ],
      "execution_count":11,
      "outputs":[
        {
          "data":{
            "text\/html":[
              "<div>\n",
              "<style scoped>\n",
              "    .dataframe tbody tr th:only-of-type {\n",
              "        vertical-align: middle;\n",
              "    }\n",
              "\n",
              "    .dataframe tbody tr th {\n",
              "        vertical-align: top;\n",
              "    }\n",
              "\n",
              "    .dataframe thead th {\n",
              "        text-align: right;\n",
              "    }\n",
              "<\/style>\n",
              "<table border=\"1\" class=\"dataframe\">\n",
              "  <thead>\n",
              "    <tr style=\"text-align: right;\">\n",
              "      <th><\/th>\n",
              "      <th>War(country)<\/th>\n",
              "      <th>2004<\/th>\n",
              "    <\/tr>\n",
              "  <\/thead>\n",
              "  <tbody>\n",
              "    <tr>\n",
              "      <th>0<\/th>\n",
              "      <td>Afghanistan<\/td>\n",
              "      <td>9.451028<\/td>\n",
              "    <\/tr>\n",
              "    <tr>\n",
              "      <th>1<\/th>\n",
              "      <td>Albania<\/td>\n",
              "      <td>0.130354<\/td>\n",
              "    <\/tr>\n",
              "    <tr>\n",
              "      <th>2<\/th>\n",
              "      <td>Algeria<\/td>\n",
              "      <td>3.407277<\/td>\n",
              "    <\/tr>\n",
              "    <tr>\n",
              "      <th>3<\/th>\n",
              "      <td>Andorra<\/td>\n",
              "      <td>0.000000<\/td>\n",
              "    <\/tr>\n",
              "    <tr>\n",
              "      <th>4<\/th>\n",
              "      <td>Angola<\/td>\n",
              "      <td>2.597931<\/td>\n",
              "    <\/tr>\n",
              "  <\/tbody>\n",
              "<\/table>\n",
              "<\/div>"
            ]
          },
          "metadata":{
            
          },
          "output_type":"display_data"
        }
      ],
      "metadata":{
        
      }
    },
    {
      "cell_type":"code",
      "source":[
        "df2=xls.parse(1)\n",
        "df2.head()"
      ],
      "execution_count":12,
      "outputs":[
        {
          "data":{
            "text\/html":[
              "<div>\n",
              "<style scoped>\n",
              "    .dataframe tbody tr th:only-of-type {\n",
              "        vertical-align: middle;\n",
              "    }\n",
              "\n",
              "    .dataframe tbody tr th {\n",
              "        vertical-align: top;\n",
              "    }\n",
              "\n",
              "    .dataframe thead th {\n",
              "        text-align: right;\n",
              "    }\n",
              "<\/style>\n",
              "<table border=\"1\" class=\"dataframe\">\n",
              "  <thead>\n",
              "    <tr style=\"text-align: right;\">\n",
              "      <th><\/th>\n",
              "      <th>War(country)<\/th>\n",
              "      <th>2004<\/th>\n",
              "    <\/tr>\n",
              "  <\/thead>\n",
              "  <tbody>\n",
              "    <tr>\n",
              "      <th>0<\/th>\n",
              "      <td>Afghanistan<\/td>\n",
              "      <td>9.451028<\/td>\n",
              "    <\/tr>\n",
              "    <tr>\n",
              "      <th>1<\/th>\n",
              "      <td>Albania<\/td>\n",
              "      <td>0.130354<\/td>\n",
              "    <\/tr>\n",
              "    <tr>\n",
              "      <th>2<\/th>\n",
              "      <td>Algeria<\/td>\n",
              "      <td>3.407277<\/td>\n",
              "    <\/tr>\n",
              "    <tr>\n",
              "      <th>3<\/th>\n",
              "      <td>Andorra<\/td>\n",
              "      <td>0.000000<\/td>\n",
              "    <\/tr>\n",
              "    <tr>\n",
              "      <th>4<\/th>\n",
              "      <td>Angola<\/td>\n",
              "      <td>2.597931<\/td>\n",
              "    <\/tr>\n",
              "  <\/tbody>\n",
              "<\/table>\n",
              "<\/div>"
            ]
          },
          "metadata":{
            
          },
          "output_type":"display_data"
        }
      ],
      "metadata":{
        
      }
    },
    {
      "cell_type":"code",
      "source":[
        "file_name='battledeath.xlsx'\n",
        "xls=pd.ExcelFile(file_name)"
      ],
      "execution_count":13,
      "outputs":[
        
      ],
      "metadata":{
        
      }
    },
    {
      "cell_type":"code",
      "source":[
        "df1=xls.parse(0,skiprows=[0],names=['Country','AAM due to War (2002)'])\n",
        "df1.head()"
      ],
      "execution_count":14,
      "outputs":[
        {
          "data":{
            "text\/html":[
              "<div>\n",
              "<style scoped>\n",
              "    .dataframe tbody tr th:only-of-type {\n",
              "        vertical-align: middle;\n",
              "    }\n",
              "\n",
              "    .dataframe tbody tr th {\n",
              "        vertical-align: top;\n",
              "    }\n",
              "\n",
              "    .dataframe thead th {\n",
              "        text-align: right;\n",
              "    }\n",
              "<\/style>\n",
              "<table border=\"1\" class=\"dataframe\">\n",
              "  <thead>\n",
              "    <tr style=\"text-align: right;\">\n",
              "      <th><\/th>\n",
              "      <th>Country<\/th>\n",
              "      <th>AAM due to War (2002)<\/th>\n",
              "    <\/tr>\n",
              "  <\/thead>\n",
              "  <tbody>\n",
              "    <tr>\n",
              "      <th>0<\/th>\n",
              "      <td>Albania<\/td>\n",
              "      <td>0.128908<\/td>\n",
              "    <\/tr>\n",
              "    <tr>\n",
              "      <th>1<\/th>\n",
              "      <td>Algeria<\/td>\n",
              "      <td>18.314120<\/td>\n",
              "    <\/tr>\n",
              "    <tr>\n",
              "      <th>2<\/th>\n",
              "      <td>Andorra<\/td>\n",
              "      <td>0.000000<\/td>\n",
              "    <\/tr>\n",
              "    <tr>\n",
              "      <th>3<\/th>\n",
              "      <td>Angola<\/td>\n",
              "      <td>18.964560<\/td>\n",
              "    <\/tr>\n",
              "    <tr>\n",
              "      <th>4<\/th>\n",
              "      <td>Antigua and Barbuda<\/td>\n",
              "      <td>0.000000<\/td>\n",
              "    <\/tr>\n",
              "  <\/tbody>\n",
              "<\/table>\n",
              "<\/div>"
            ]
          },
          "metadata":{
            
          },
          "output_type":"display_data"
        }
      ],
      "metadata":{
        
      }
    },
    {
      "cell_type":"code",
      "source":[
        "df2=xls.parse(1,usecols=[0],skiprows=[0],names=['Country'])\n",
        "df2.head()"
      ],
      "execution_count":15,
      "outputs":[
        {
          "data":{
            "text\/html":[
              "<div>\n",
              "<style scoped>\n",
              "    .dataframe tbody tr th:only-of-type {\n",
              "        vertical-align: middle;\n",
              "    }\n",
              "\n",
              "    .dataframe tbody tr th {\n",
              "        vertical-align: top;\n",
              "    }\n",
              "\n",
              "    .dataframe thead th {\n",
              "        text-align: right;\n",
              "    }\n",
              "<\/style>\n",
              "<table border=\"1\" class=\"dataframe\">\n",
              "  <thead>\n",
              "    <tr style=\"text-align: right;\">\n",
              "      <th><\/th>\n",
              "      <th>Country<\/th>\n",
              "    <\/tr>\n",
              "  <\/thead>\n",
              "  <tbody>\n",
              "    <tr>\n",
              "      <th>0<\/th>\n",
              "      <td>Albania<\/td>\n",
              "    <\/tr>\n",
              "    <tr>\n",
              "      <th>1<\/th>\n",
              "      <td>Algeria<\/td>\n",
              "    <\/tr>\n",
              "    <tr>\n",
              "      <th>2<\/th>\n",
              "      <td>Andorra<\/td>\n",
              "    <\/tr>\n",
              "    <tr>\n",
              "      <th>3<\/th>\n",
              "      <td>Angola<\/td>\n",
              "    <\/tr>\n",
              "    <tr>\n",
              "      <th>4<\/th>\n",
              "      <td>Antigua and Barbuda<\/td>\n",
              "    <\/tr>\n",
              "  <\/tbody>\n",
              "<\/table>\n",
              "<\/div>"
            ]
          },
          "metadata":{
            
          },
          "output_type":"display_data"
        }
      ],
      "metadata":{
        
      }
    },
    {
      "cell_type":"markdown",
      "source":[
        "# **Importing SAS Files**"
      ],
      "attachments":{
        
      },
      "metadata":{
        
      }
    },
    {
      "cell_type":"code",
      "source":[
        "# SAS - Statistical analysis system"
      ],
      "execution_count":16,
      "outputs":[
        
      ],
      "metadata":{
        
      }
    },
    {
      "cell_type":"code",
      "source":[
        "from sas7bdat import SAS7BDAT\n",
        "import pandas as pd"
      ],
      "execution_count":17,
      "outputs":[
        
      ],
      "metadata":{
        
      }
    },
    {
      "cell_type":"code",
      "source":[
        "with SAS7BDAT('cars.sas7bdat') as file:\n",
        "    df=file.to_data_frame()"
      ],
      "execution_count":18,
      "outputs":[
        
      ],
      "metadata":{
        
      }
    },
    {
      "cell_type":"code",
      "source":[
        "df"
      ],
      "execution_count":19,
      "outputs":[
        {
          "data":{
            "text\/html":[
              "<div>\n",
              "<style scoped>\n",
              "    .dataframe tbody tr th:only-of-type {\n",
              "        vertical-align: middle;\n",
              "    }\n",
              "\n",
              "    .dataframe tbody tr th {\n",
              "        vertical-align: top;\n",
              "    }\n",
              "\n",
              "    .dataframe thead th {\n",
              "        text-align: right;\n",
              "    }\n",
              "<\/style>\n",
              "<table border=\"1\" class=\"dataframe\">\n",
              "  <thead>\n",
              "    <tr style=\"text-align: right;\">\n",
              "      <th><\/th>\n",
              "      <th>MPG<\/th>\n",
              "      <th>CYL<\/th>\n",
              "      <th>ENG<\/th>\n",
              "      <th>WGT<\/th>\n",
              "    <\/tr>\n",
              "  <\/thead>\n",
              "  <tbody>\n",
              "    <tr>\n",
              "      <th>0<\/th>\n",
              "      <td>18.0<\/td>\n",
              "      <td>8.0<\/td>\n",
              "      <td>307.0<\/td>\n",
              "      <td>3504.0<\/td>\n",
              "    <\/tr>\n",
              "    <tr>\n",
              "      <th>1<\/th>\n",
              "      <td>15.0<\/td>\n",
              "      <td>8.0<\/td>\n",
              "      <td>350.0<\/td>\n",
              "      <td>3693.0<\/td>\n",
              "    <\/tr>\n",
              "    <tr>\n",
              "      <th>2<\/th>\n",
              "      <td>18.0<\/td>\n",
              "      <td>8.0<\/td>\n",
              "      <td>318.0<\/td>\n",
              "      <td>3436.0<\/td>\n",
              "    <\/tr>\n",
              "    <tr>\n",
              "      <th>3<\/th>\n",
              "      <td>16.0<\/td>\n",
              "      <td>8.0<\/td>\n",
              "      <td>304.0<\/td>\n",
              "      <td>3433.0<\/td>\n",
              "    <\/tr>\n",
              "    <tr>\n",
              "      <th>4<\/th>\n",
              "      <td>17.0<\/td>\n",
              "      <td>8.0<\/td>\n",
              "      <td>302.0<\/td>\n",
              "      <td>3449.0<\/td>\n",
              "    <\/tr>\n",
              "    <tr>\n",
              "      <th>...<\/th>\n",
              "      <td>...<\/td>\n",
              "      <td>...<\/td>\n",
              "      <td>...<\/td>\n",
              "      <td>...<\/td>\n",
              "    <\/tr>\n",
              "    <tr>\n",
              "      <th>387<\/th>\n",
              "      <td>27.0<\/td>\n",
              "      <td>4.0<\/td>\n",
              "      <td>140.0<\/td>\n",
              "      <td>2790.0<\/td>\n",
              "    <\/tr>\n",
              "    <tr>\n",
              "      <th>388<\/th>\n",
              "      <td>44.0<\/td>\n",
              "      <td>4.0<\/td>\n",
              "      <td>97.0<\/td>\n",
              "      <td>2130.0<\/td>\n",
              "    <\/tr>\n",
              "    <tr>\n",
              "      <th>389<\/th>\n",
              "      <td>32.0<\/td>\n",
              "      <td>4.0<\/td>\n",
              "      <td>135.0<\/td>\n",
              "      <td>2295.0<\/td>\n",
              "    <\/tr>\n",
              "    <tr>\n",
              "      <th>390<\/th>\n",
              "      <td>28.0<\/td>\n",
              "      <td>4.0<\/td>\n",
              "      <td>120.0<\/td>\n",
              "      <td>2625.0<\/td>\n",
              "    <\/tr>\n",
              "    <tr>\n",
              "      <th>391<\/th>\n",
              "      <td>31.0<\/td>\n",
              "      <td>4.0<\/td>\n",
              "      <td>119.0<\/td>\n",
              "      <td>2720.0<\/td>\n",
              "    <\/tr>\n",
              "  <\/tbody>\n",
              "<\/table>\n",
              "<p>392 rows × 4 columns<\/p>\n",
              "<\/div>"
            ]
          },
          "metadata":{
            
          },
          "output_type":"display_data"
        }
      ],
      "metadata":{
        
      }
    },
    {
      "cell_type":"code",
      "source":[
        "import matplotlib.pyplot as plt\n",
        "import seaborn as sns\n",
        "sns.set()\n",
        "plt.hist(df['WGT'])\n",
        "plt.show()"
      ],
      "execution_count":20,
      "outputs":[
        {
          "data":{
            "image\/png":"[encoded data removed]"
          },
          "metadata":{
            "image\/png":{
              
            }
          },
          "output_type":"display_data"
        }
      ],
      "metadata":{
        
      }
    },
    {
      "cell_type":"markdown",
      "source":[
        "# **Importing Stata files**"
      ],
      "attachments":{
        
      },
      "metadata":{
        
      }
    },
    {
      "cell_type":"code",
      "source":[
        "# stata = statistics + Data"
      ],
      "execution_count":21,
      "outputs":[
        
      ],
      "metadata":{
        
      }
    },
    {
      "cell_type":"code",
      "source":[
        "import pandas as pd\n",
        "import matplotlib.pyplot as plt\n",
        "import seaborn as sns"
      ],
      "execution_count":22,
      "outputs":[
        
      ],
      "metadata":{
        
      }
    },
    {
      "cell_type":"code",
      "source":[
        "df=pd.read_stata('disarea.dta')\n",
        "df.head()"
      ],
      "execution_count":23,
      "outputs":[
        {
          "data":{
            "text\/html":[
              "<div>\n",
              "<style scoped>\n",
              "    .dataframe tbody tr th:only-of-type {\n",
              "        vertical-align: middle;\n",
              "    }\n",
              "\n",
              "    .dataframe tbody tr th {\n",
              "        vertical-align: top;\n",
              "    }\n",
              "\n",
              "    .dataframe thead th {\n",
              "        text-align: right;\n",
              "    }\n",
              "<\/style>\n",
              "<table border=\"1\" class=\"dataframe\">\n",
              "  <thead>\n",
              "    <tr style=\"text-align: right;\">\n",
              "      <th><\/th>\n",
              "      <th>index<\/th>\n",
              "      <th>wbcode<\/th>\n",
              "      <th>country<\/th>\n",
              "      <th>disa1<\/th>\n",
              "      <th>disa2<\/th>\n",
              "      <th>disa3<\/th>\n",
              "      <th>disa4<\/th>\n",
              "      <th>disa5<\/th>\n",
              "      <th>disa6<\/th>\n",
              "      <th>disa7<\/th>\n",
              "      <th>...<\/th>\n",
              "      <th>disa16<\/th>\n",
              "      <th>disa17<\/th>\n",
              "      <th>disa18<\/th>\n",
              "      <th>disa19<\/th>\n",
              "      <th>disa20<\/th>\n",
              "      <th>disa21<\/th>\n",
              "      <th>disa22<\/th>\n",
              "      <th>disa23<\/th>\n",
              "      <th>disa24<\/th>\n",
              "      <th>disa25<\/th>\n",
              "    <\/tr>\n",
              "  <\/thead>\n",
              "  <tbody>\n",
              "    <tr>\n",
              "      <th>0<\/th>\n",
              "      <td>0<\/td>\n",
              "      <td>AFG<\/td>\n",
              "      <td>Afghanistan<\/td>\n",
              "      <td>0.00<\/td>\n",
              "      <td>0.00<\/td>\n",
              "      <td>0.76<\/td>\n",
              "      <td>0.73<\/td>\n",
              "      <td>0.0<\/td>\n",
              "      <td>0.00<\/td>\n",
              "      <td>0.00<\/td>\n",
              "      <td>...<\/td>\n",
              "      <td>0.0<\/td>\n",
              "      <td>0.0<\/td>\n",
              "      <td>0.0<\/td>\n",
              "      <td>0.00<\/td>\n",
              "      <td>0.00<\/td>\n",
              "      <td>0.0<\/td>\n",
              "      <td>0.00<\/td>\n",
              "      <td>0.02<\/td>\n",
              "      <td>0.00<\/td>\n",
              "      <td>0.00<\/td>\n",
              "    <\/tr>\n",
              "    <tr>\n",
              "      <th>1<\/th>\n",
              "      <td>1<\/td>\n",
              "      <td>AGO<\/td>\n",
              "      <td>Angola<\/td>\n",
              "      <td>0.32<\/td>\n",
              "      <td>0.02<\/td>\n",
              "      <td>0.56<\/td>\n",
              "      <td>0.00<\/td>\n",
              "      <td>0.0<\/td>\n",
              "      <td>0.00<\/td>\n",
              "      <td>0.56<\/td>\n",
              "      <td>...<\/td>\n",
              "      <td>0.0<\/td>\n",
              "      <td>0.4<\/td>\n",
              "      <td>0.0<\/td>\n",
              "      <td>0.61<\/td>\n",
              "      <td>0.00<\/td>\n",
              "      <td>0.0<\/td>\n",
              "      <td>0.99<\/td>\n",
              "      <td>0.98<\/td>\n",
              "      <td>0.61<\/td>\n",
              "      <td>0.00<\/td>\n",
              "    <\/tr>\n",
              "    <tr>\n",
              "      <th>2<\/th>\n",
              "      <td>2<\/td>\n",
              "      <td>ALB<\/td>\n",
              "      <td>Albania<\/td>\n",
              "      <td>0.00<\/td>\n",
              "      <td>0.00<\/td>\n",
              "      <td>0.02<\/td>\n",
              "      <td>0.00<\/td>\n",
              "      <td>0.0<\/td>\n",
              "      <td>0.00<\/td>\n",
              "      <td>0.00<\/td>\n",
              "      <td>...<\/td>\n",
              "      <td>0.0<\/td>\n",
              "      <td>0.0<\/td>\n",
              "      <td>0.0<\/td>\n",
              "      <td>0.00<\/td>\n",
              "      <td>0.00<\/td>\n",
              "      <td>0.0<\/td>\n",
              "      <td>0.00<\/td>\n",
              "      <td>0.00<\/td>\n",
              "      <td>0.00<\/td>\n",
              "      <td>0.16<\/td>\n",
              "    <\/tr>\n",
              "    <tr>\n",
              "      <th>3<\/th>\n",
              "      <td>3<\/td>\n",
              "      <td>ARE<\/td>\n",
              "      <td>United Arab Emirates<\/td>\n",
              "      <td>0.00<\/td>\n",
              "      <td>0.00<\/td>\n",
              "      <td>0.00<\/td>\n",
              "      <td>0.00<\/td>\n",
              "      <td>0.0<\/td>\n",
              "      <td>0.00<\/td>\n",
              "      <td>0.00<\/td>\n",
              "      <td>...<\/td>\n",
              "      <td>0.0<\/td>\n",
              "      <td>0.0<\/td>\n",
              "      <td>0.0<\/td>\n",
              "      <td>0.00<\/td>\n",
              "      <td>0.00<\/td>\n",
              "      <td>0.0<\/td>\n",
              "      <td>0.00<\/td>\n",
              "      <td>0.00<\/td>\n",
              "      <td>0.00<\/td>\n",
              "      <td>0.00<\/td>\n",
              "    <\/tr>\n",
              "    <tr>\n",
              "      <th>4<\/th>\n",
              "      <td>4<\/td>\n",
              "      <td>ARG<\/td>\n",
              "      <td>Argentina<\/td>\n",
              "      <td>0.00<\/td>\n",
              "      <td>0.24<\/td>\n",
              "      <td>0.24<\/td>\n",
              "      <td>0.00<\/td>\n",
              "      <td>0.0<\/td>\n",
              "      <td>0.23<\/td>\n",
              "      <td>0.00<\/td>\n",
              "      <td>...<\/td>\n",
              "      <td>0.0<\/td>\n",
              "      <td>0.0<\/td>\n",
              "      <td>0.0<\/td>\n",
              "      <td>0.00<\/td>\n",
              "      <td>0.05<\/td>\n",
              "      <td>0.0<\/td>\n",
              "      <td>0.00<\/td>\n",
              "      <td>0.01<\/td>\n",
              "      <td>0.00<\/td>\n",
              "      <td>0.11<\/td>\n",
              "    <\/tr>\n",
              "  <\/tbody>\n",
              "<\/table>\n",
              "<p>5 rows × 28 columns<\/p>\n",
              "<\/div>"
            ]
          },
          "metadata":{
            
          },
          "output_type":"display_data"
        }
      ],
      "metadata":{
        
      }
    },
    {
      "cell_type":"code",
      "source":[
        "import seaborn as sns\n",
        "sns.set()\n",
        "pd.DataFrame.hist(df[['disa10']])\n",
        "plt.xlabel('Extent of the disease')\n",
        "plt.ylabel('Number of contries')\n",
        "plt.show()"
      ],
      "execution_count":24,
      "outputs":[
        {
          "data":{
            "image\/png":"[encoded data removed]"
          },
          "metadata":{
            "image\/png":{
              
            }
          },
          "output_type":"display_data"
        }
      ],
      "metadata":{
        
      }
    },
    {
      "cell_type":"markdown",
      "source":[
        "# **Importing HDF5 Files**"
      ],
      "attachments":{
        
      },
      "metadata":{
        
      }
    },
    {
      "cell_type":"code",
      "source":[
        "import numpy as np\n",
        "import matplotlib.pyplot as plt\n",
        "import h5py"
      ],
      "execution_count":25,
      "outputs":[
        
      ],
      "metadata":{
        
      }
    },
    {
      "cell_type":"code",
      "source":[
        "file_name='Gravity.hdf5'\n",
        "data=h5py.File(file_name,'r')"
      ],
      "execution_count":26,
      "outputs":[
        
      ],
      "metadata":{
        
      }
    },
    {
      "cell_type":"code",
      "source":[
        "print(type(data))\n",
        "for key in data.keys():\n",
        "    print(key)"
      ],
      "execution_count":27,
      "outputs":[
        {
          "name":"stdout",
          "text":[
            "<class 'h5py._hl.files.File'>\n",
            "meta\n",
            "quality\n",
            "strain\n"
          ],
          "output_type":"stream"
        }
      ],
      "metadata":{
        
      }
    },
    {
      "cell_type":"code",
      "source":[
        "group=data['strain']\n",
        "for key in group.keys():\n",
        "    print(key)"
      ],
      "execution_count":28,
      "outputs":[
        {
          "name":"stdout",
          "text":[
            "Strain\n"
          ],
          "output_type":"stream"
        }
      ],
      "metadata":{
        
      }
    },
    {
      "cell_type":"code",
      "source":[
        "Strain=data['strain']['Strain'].value\n",
        "num_samples=1000\n",
        "time=np.arange(0,1,1\/num_samples)"
      ],
      "execution_count":29,
      "outputs":[
        {
          "name":"stderr",
          "text":[
            "<ipython-input-29-41bd6eb21413>:1: H5pyDeprecationWarning: dataset.value has been deprecated. Use dataset[()] instead.\n",
            "  Strain=data['strain']['Strain'].value\n"
          ],
          "output_type":"stream"
        }
      ],
      "metadata":{
        
      }
    },
    {
      "cell_type":"code",
      "source":[
        "plt.plot(time,Strain[:num_samples])\n",
        "plt.xlabel(\"GPS Time (S)\")\n",
        "plt.ylabel(\"Strain\")\n",
        "plt.show()"
      ],
      "execution_count":30,
      "outputs":[
        {
          "data":{
            "image\/png":"[encoded data removed]"
          },
          "metadata":{
            "image\/png":{
              
            }
          },
          "output_type":"display_data"
        }
      ],
      "metadata":{
        
      }
    },
    {
      "cell_type":"markdown",
      "source":[
        "# **Importing MATLAB Files**"
      ],
      "attachments":{
        
      },
      "metadata":{
        
      }
    },
    {
      "cell_type":"code",
      "source":[
        "import scipy.io"
      ],
      "execution_count":31,
      "outputs":[
        
      ],
      "metadata":{
        
      }
    },
    {
      "cell_type":"code",
      "source":[
        "mat=scipy.io.loadmat(\"albeck_gene_expression.mat\")\n",
        "print(type(mat))"
      ],
      "execution_count":32,
      "outputs":[
        {
          "name":"stdout",
          "text":[
            "<class 'dict'>\n"
          ],
          "output_type":"stream"
        }
      ],
      "metadata":{
        
      }
    },
    {
      "cell_type":"code",
      "source":[
        "print(mat.keys())"
      ],
      "execution_count":33,
      "outputs":[
        {
          "name":"stdout",
          "text":[
            "dict_keys(['__header__', '__version__', '__globals__', 'rfpCyt', 'rfpNuc', 'cfpNuc', 'cfpCyt', 'yfpNuc', 'yfpCyt', 'CYratioCyt'])\n"
          ],
          "output_type":"stream"
        }
      ],
      "metadata":{
        
      }
    },
    {
      "cell_type":"code",
      "source":[
        "print(type(mat['CYratioCyt']))\n",
        "print(mat['CYratioCyt'].shape)"
      ],
      "execution_count":34,
      "outputs":[
        {
          "name":"stdout",
          "text":[
            "<class 'numpy.ndarray'>\n",
            "(200, 137)\n"
          ],
          "output_type":"stream"
        }
      ],
      "metadata":{
        
      }
    },
    {
      "cell_type":"code",
      "source":[
        "data1=mat['CYratioCyt'][25,5:]\n",
        "fig=plt.figure()\n",
        "plt.plot(data1)\n",
        "plt.xlabel(\"time (min.)\")\n",
        "plt.ylabel('normalized fluorescence (measure of expression)')\n",
        "plt.show()"
      ],
      "execution_count":35,
      "outputs":[
        {
          "data":{
            "image\/png":"[encoded data removed]"
          },
          "metadata":{
            "image\/png":{
              
            }
          },
          "output_type":"display_data"
        }
      ],
      "metadata":{
        
      }
    }
  ],
  "metadata":{
    
  },
  "nbformat":4,
  "nbformat_minor":0
}